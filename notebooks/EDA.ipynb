{
 "cells": [
  {
   "cell_type": "markdown",
   "id": "480ba9db",
   "metadata": {},
   "source": [
    "# Pitcher Profile"
   ]
  },
  {
   "cell_type": "markdown",
   "id": "7e6ae2c6",
   "metadata": {},
   "source": [
    "### This app analyzes MLB pitcher arsenals based on metrics such as pitch type, pitch usage, whiff percent, and strike percent during the 2023 MLB regular season."
   ]
  },
  {
   "cell_type": "code",
   "execution_count": null,
   "id": "efe2ba3a",
   "metadata": {},
   "outputs": [],
   "source": [
    "import streamlit as st\n",
    "import pandas as pd\n",
    "import plotly.express as px\n",
    "import numpy as np\n",
    "from pybaseball import statcast_pitcher_arsenal_stats"
   ]
  },
  {
   "cell_type": "markdown",
   "id": "a90e781a",
   "metadata": {},
   "source": [
    "### Get pitcher data"
   ]
  },
  {
   "cell_type": "code",
   "execution_count": null,
   "id": "1493449f",
   "metadata": {
    "lines_to_next_cell": 1
   },
   "outputs": [],
   "source": [
    "\n",
    "pitch_data = statcast_pitcher_arsenal_stats(2023, minPA=0, )\n",
    "pitch_csv = pitch_data.to_csv('pitch_data.csv', sep=',')\n",
    "pitch_2023 = pd.read_csv('pitch_data.csv')"
   ]
  },
  {
   "cell_type": "code",
   "execution_count": null,
   "id": "757b692c",
   "metadata": {},
   "outputs": [],
   "source": [
    "@st.cache_data\n",
    "def load_data():\n",
    "    return pitch_2023\n",
    "df = load_data()"
   ]
  },
  {
   "cell_type": "markdown",
   "id": "4737b267",
   "metadata": {},
   "source": [
    "### Titles and description"
   ]
  },
  {
   "cell_type": "code",
   "execution_count": null,
   "id": "7195a9f6",
   "metadata": {},
   "outputs": [],
   "source": [
    "st.title('MLB Pitcher By The Pitch')\n",
    "\n",
    "st.markdown = (\"\"\"This app analyzes MLB pitcher arsenals based on metrics such as pitch type, pitch usage, whiff percent, and strike percent during the 2023 MLB regular season.\n",
    "    * **Python libraries:** streamlit, pandas, plotly.express, numpy, pybaseball, and seaborn\n",
    "    * **Data source:** [baseballsavant.mlb.com](https://baseballsavant.mlb.com/)\n",
    "    \"\"\")"
   ]
  },
  {
   "cell_type": "markdown",
   "id": "b0454fbc",
   "metadata": {},
   "source": [
    "### View the data in streamlit"
   ]
  },
  {
   "cell_type": "code",
   "execution_count": null,
   "id": "a9a48812",
   "metadata": {},
   "outputs": [],
   "source": [
    "st.write('### Overview of the Data')\n",
    "\n",
    "st.dataframe(df, use_container_width=True)"
   ]
  },
  {
   "cell_type": "code",
   "execution_count": null,
   "id": "b2cb553a",
   "metadata": {},
   "outputs": [],
   "source": [
    "if st.checkbox(\"Show Summary of Pitch Data\"):\n",
    "    st.write(df.describe())"
   ]
  },
  {
   "cell_type": "markdown",
   "id": "ae92f4c8",
   "metadata": {},
   "source": [
    "### Scatterplot of comparing put-away, hard hit percent, and whiff percent to strike percent"
   ]
  },
  {
   "cell_type": "code",
   "execution_count": null,
   "id": "9a392a79",
   "metadata": {},
   "outputs": [],
   "source": [
    "st.write('### Overall Metrics Scatterplot Based on Strike Percent')\n",
    "\n",
    "st.scatter_chart(data=df, x='k_percent', y=['put_away', 'hard_hit_percent', 'whiff_percent'], color=['#fc1d47', '#1f84e4', '#4fe255'], size=None, width=0, height=0, use_container_width=True)"
   ]
  },
  {
   "cell_type": "markdown",
   "id": "73c6ca16",
   "metadata": {},
   "source": [
    "### Format sidebar dropdown menus"
   ]
  },
  {
   "cell_type": "code",
   "execution_count": null,
   "id": "bd7a2e25",
   "metadata": {},
   "outputs": [],
   "source": [
    "\n",
    "st.sidebar.header('Please select each:')\n",
    "team = st.sidebar.selectbox('Team', df['team_name_alt'].sort_values().unique())\n",
    "pitcher_choice = df['last_name, first_name'].drop_duplicates().loc[df['team_name_alt'] == team]\n",
    "pitcher = st.sidebar.selectbox('Pitcher', pitcher_choice)\n"
   ]
  },
  {
   "cell_type": "markdown",
   "id": "358608db",
   "metadata": {},
   "source": [
    " ### Define selected pitcher data to use"
   ]
  },
  {
   "cell_type": "code",
   "execution_count": null,
   "id": "580f0042",
   "metadata": {},
   "outputs": [],
   "source": [
    "results_df = df.loc[df['last_name, first_name'] == pitcher].drop('Unnamed: 0', axis=1).reset_index(drop=True)\n",
    "filtered_df = results_df.filter(items=['pitch_name', 'pitches', 'pitch_usage', 'whiff_percent', 'k_percent', 'put_away', 'hard_hit_percent'])\n",
    "columns = ['pitches', 'pitch_usage', 'whiff_percent', 'k_percent', 'put_away', 'hard_hit_percent']"
   ]
  },
  {
   "cell_type": "markdown",
   "id": "b0ceb2ee",
   "metadata": {},
   "source": [
    "### Create a histogram for each metric"
   ]
  },
  {
   "cell_type": "code",
   "execution_count": null,
   "id": "9cc62553",
   "metadata": {},
   "outputs": [],
   "source": [
    "if st.sidebar.button('Get Data'): \n",
    "    st.header(f'{pitcher}')\n",
    "    for col in columns:\n",
    "    \n",
    "        fig = px.histogram(filtered_df[f'{col}'], x=filtered_df['pitch_name'], y=filtered_df[f'{col}'], labels={'x': 'Pitch'})  \n",
    "        fig.update_layout(yaxis_title=f'{col}')\n",
    "        st.plotly_chart(fig, use_container_width=True)"
   ]
  },
  {
   "cell_type": "code",
   "execution_count": null,
   "id": "40c152bf",
   "metadata": {},
   "outputs": [],
   "source": []
  },
  {
   "cell_type": "code",
   "execution_count": null,
   "id": "8fa6fcbe",
   "metadata": {},
   "outputs": [],
   "source": []
  }
 ],
 "metadata": {
  "jupytext": {
   "cell_metadata_filter": "-all",
   "main_language": "python",
   "notebook_metadata_filter": "-all"
  },
  "language_info": {
   "name": "python"
  }
 },
 "nbformat": 4,
 "nbformat_minor": 5
}
